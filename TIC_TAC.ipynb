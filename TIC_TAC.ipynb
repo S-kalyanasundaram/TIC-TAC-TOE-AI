{
  "nbformat": 4,
  "nbformat_minor": 0,
  "metadata": {
    "colab": {
      "provenance": []
    },
    "kernelspec": {
      "name": "python3",
      "display_name": "Python 3"
    },
    "language_info": {
      "name": "python"
    }
  },
  "cells": [
    {
      "cell_type": "code",
      "execution_count": null,
      "metadata": {
        "id": "5wqNpjw-taLL"
      },
      "outputs": [],
      "source": [
        "import random"
      ]
    },
    {
      "cell_type": "code",
      "source": [
        "def print_board(board):\n",
        "    for row in board:\n",
        "        print(\" | \".join(row))\n",
        "        print(\"-\" * 9)"
      ],
      "metadata": {
        "id": "twaHwBUHt8oD"
      },
      "execution_count": null,
      "outputs": []
    },
    {
      "cell_type": "code",
      "source": [
        "def check_winner(board, player):\n",
        "    for row in board:\n",
        "        if all(cell == player for cell in row):\n",
        "            return True\n",
        "\n",
        "    for col in range(3):\n",
        "        if all(board[row][col] == player for row in range(3)):\n",
        "            return True\n",
        "\n",
        "    if all(board[i][i] == player for i in range(3)) or all(board[i][2 - i] == player for i in range(3)):\n",
        "        return True\n",
        "\n",
        "    return False"
      ],
      "metadata": {
        "id": "tlllrSF4uJVW"
      },
      "execution_count": null,
      "outputs": []
    },
    {
      "cell_type": "code",
      "source": [
        "def is_board_full(board):\n",
        "    return all(cell != \" \" for row in board for cell in row)"
      ],
      "metadata": {
        "id": "ek5a8wQwuUow"
      },
      "execution_count": null,
      "outputs": []
    },
    {
      "cell_type": "code",
      "source": [
        "def minimax(board, depth, is_maximizing):\n",
        "    scores = {\n",
        "        \"X\": 1,\n",
        "        \"O\": -1,\n",
        "        \"Tie\": 0\n",
        "    }\n",
        "\n",
        "    if check_winner(board, \"X\"):\n",
        "        return scores[\"X\"]\n",
        "    if check_winner(board, \"O\"):\n",
        "        return scores[\"O\"]\n",
        "    if is_board_full(board):\n",
        "        return scores[\"Tie\"]\n",
        "\n",
        "    if is_maximizing:\n",
        "        max_eval = float(\"-inf\")\n",
        "        for i in range(3):\n",
        "            for j in range(3):\n",
        "                if board[i][j] == \" \":\n",
        "                    board[i][j] = \"X\"\n",
        "                    eval = minimax(board, depth + 1, False)\n",
        "                    board[i][j] = \" \"\n",
        "                    max_eval = max(max_eval, eval)\n",
        "        return max_eval\n",
        "\n",
        "    else:\n",
        "        min_eval = float(\"inf\")\n",
        "        for i in range(3):\n",
        "            for j in range(3):\n",
        "                if board[i][j] == \" \":\n",
        "                    board[i][j] = \"O\"\n",
        "                    eval = minimax(board, depth + 1, True)\n",
        "                    board[i][j] = \" \"\n",
        "                    min_eval = min(min_eval, eval)\n",
        "        return min_eval"
      ],
      "metadata": {
        "id": "-P_Ehsz7uaSP"
      },
      "execution_count": null,
      "outputs": []
    },
    {
      "cell_type": "code",
      "source": [
        "def best_move(board):\n",
        "    best_eval = float(\"-inf\")\n",
        "    move = (-1, -1)\n",
        "\n",
        "    for i in range(3):\n",
        "        for j in range(3):\n",
        "            if board[i][j] == \" \":\n",
        "                board[i][j] = \"X\"\n",
        "                eval = minimax(board, 0, False)\n",
        "                board[i][j] = \" \"\n",
        "                if eval > best_eval:\n",
        "                    best_eval = eval\n",
        "                    move = (i, j)\n",
        "\n",
        "    return move"
      ],
      "metadata": {
        "id": "QqLFmGGXug8a"
      },
      "execution_count": null,
      "outputs": []
    },
    {
      "cell_type": "code",
      "source": [
        "def main():\n",
        "    board = [[\" \" for _ in range(3)] for _ in range(3)]\n",
        "    while True:\n",
        "        print_board(board)\n",
        "\n",
        "        if is_board_full(board):\n",
        "            print(\"It's a tie!\")\n",
        "            break\n",
        "\n",
        "        x, y = best_move(board)\n",
        "        board[x][y] = \"X\"\n",
        "\n",
        "        if check_winner(board, \"X\"):\n",
        "            print_board(board)\n",
        "            print(\"You win!\")\n",
        "            break\n",
        "\n",
        "        if is_board_full(board):\n",
        "            print(\"It's a tie!\")\n",
        "            break\n",
        "\n",
        "        x, y = map(int, input(\"Enter your move (row and column): \").split())\n",
        "        if board[x][y] == \" \":\n",
        "            board[x][y] = \"O\"\n",
        "        else:\n",
        "            print(\"Invalid move. Try again.\")\n",
        "\n",
        "        if check_winner(board, \"O\"):\n",
        "            print_board(board)\n",
        "            print(\"AI wins!\")\n",
        "            break\n",
        "if __name__ == \"__main__\":\n",
        "    main()"
      ],
      "metadata": {
        "colab": {
          "base_uri": "https://localhost:8080/"
        },
        "id": "h7ii60EvunYn",
        "outputId": "5df62188-7d77-49a1-9a50-633457879c8e"
      },
      "execution_count": null,
      "outputs": [
        {
          "output_type": "stream",
          "name": "stdout",
          "text": [
            "  |   |  \n",
            "---------\n",
            "  |   |  \n",
            "---------\n",
            "  |   |  \n",
            "---------\n",
            "Enter your move (row and column): 2 2\n",
            "X |   |  \n",
            "---------\n",
            "  |   |  \n",
            "---------\n",
            "  |   | O\n",
            "---------\n",
            "Enter your move (row and column): 2 2\n",
            "Invalid move. Try again.\n",
            "X |   | X\n",
            "---------\n",
            "  |   |  \n",
            "---------\n",
            "  |   | O\n",
            "---------\n",
            "X | X | X\n",
            "---------\n",
            "  |   |  \n",
            "---------\n",
            "  |   | O\n",
            "---------\n",
            "You win!\n"
          ]
        }
      ]
    }
  ]
}